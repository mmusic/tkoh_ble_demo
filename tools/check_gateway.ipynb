{
 "cells": [
  {
   "cell_type": "code",
   "execution_count": null,
   "metadata": {},
   "outputs": [],
   "source": [
    "import pandas as pd"
   ]
  },
  {
   "cell_type": "code",
   "execution_count": null,
   "metadata": {},
   "outputs": [],
   "source": [
    "data = pd.read_csv('bt_202212.csv')"
   ]
  },
  {
   "cell_type": "code",
   "execution_count": null,
   "metadata": {},
   "outputs": [],
   "source": [
    "sensor_head = 'BL-'\n",
    "se = []\n",
    "i = 1\n",
    "while i < 44:\n",
    "    id = str(i)\n",
    "    if i < 10:\n",
    "        id = '0'+id\n",
    "    # print(sensor_head + id)\n",
    "    se.append(sensor_head + id)\n",
    "    i += 1\n",
    "\n",
    "sts = 1651334400\n",
    "sts = 1669824000\n",
    "i = 0\n",
    "report = []\n",
    "while i < 30:\n",
    "    daily_data = data[(data.ts > (sts + i*60*60*24)) & (data.ts < (sts + (i+1)*60*60*24))]\n",
    "    sensors = daily_data['sensor_label'].drop_duplicates(keep='first')\n",
    "    res = []\n",
    "    for gateway in se:\n",
    "        if gateway in sensors.values:\n",
    "            res.append(1)\n",
    "        else:\n",
    "            res.append(0)\n",
    "    report.append(res)\n",
    "    # print(sensors.shape, daily_data.shape, ts2date((sts + (i+0)*60*60*24)), ts2date((sts + (i+1)*60*60*24)))\n",
    "    i += 1"
   ]
  },
  {
   "cell_type": "code",
   "execution_count": null,
   "metadata": {},
   "outputs": [],
   "source": [
    "report_dp = pd.DataFrame(report)\n",
    "report_dp.columns = se\n",
    "report_dp"
   ]
  },
  {
   "cell_type": "code",
   "execution_count": null,
   "metadata": {},
   "outputs": [],
   "source": [
    "report_dp.to_csv('res.csv')"
   ]
  }
 ],
 "metadata": {
  "language_info": {
   "name": "python"
  },
  "orig_nbformat": 4
 },
 "nbformat": 4,
 "nbformat_minor": 2
}
